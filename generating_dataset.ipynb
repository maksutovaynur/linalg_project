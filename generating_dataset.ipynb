{
 "cells": [
  {
   "cell_type": "code",
   "execution_count": 1,
   "metadata": {},
   "outputs": [],
   "source": [
    "import time\n",
    "import numpy as np\n",
    "import pyroomacoustics as pra\n",
    "import matplotlib.pyplot as plt\n",
    "from scipy.io import wavfile"
   ]
  },
  {
   "cell_type": "code",
   "execution_count": 2,
   "metadata": {},
   "outputs": [],
   "source": [
    "# fname_1 = 'original_sound/borya_Karim.wav'\n",
    "# fname_2 = 'original_sound/motivation_Aynur.wav'\n",
    "fname_1 = 'original_sound/borya_Karim.wav'\n",
    "fname_2 = 'original_sound/motivation_Aynur.wav'"
   ]
  },
  {
   "cell_type": "code",
   "execution_count": 3,
   "metadata": {},
   "outputs": [],
   "source": [
    "fs, audio_in_1 = wavfile.read(fname_1)\n",
    "fs, audio_in_2 = wavfile.read(fname_2)"
   ]
  },
  {
   "cell_type": "code",
   "execution_count": 4,
   "metadata": {},
   "outputs": [
    {
     "name": "stdout",
     "output_type": "stream",
     "text": [
      "(1793547,)\n",
      "(2268945,)\n"
     ]
    }
   ],
   "source": [
    "print(audio_in_1.shape)\n",
    "print(audio_in_2.shape)"
   ]
  },
  {
   "cell_type": "code",
   "execution_count": 5,
   "metadata": {},
   "outputs": [
    {
     "data": {
      "text/plain": [
       "44100"
      ]
     },
     "execution_count": 5,
     "metadata": {},
     "output_type": "execute_result"
    }
   ],
   "source": [
    "fs"
   ]
  },
  {
   "cell_type": "code",
   "execution_count": 6,
   "metadata": {},
   "outputs": [],
   "source": [
    "if audio_in_1.shape[0] > audio_in_2.shape[0]:\n",
    "    audio_in_2 = np.concatenate((np.zeros(audio_in_1.shape[0] - audio_in_2.shape[0]), audio_in_2))\n",
    "else:\n",
    "    audio_in_1 = np.concatenate((np.zeros(audio_in_2.shape[0] - audio_in_1.shape[0]), audio_in_1))"
   ]
  },
  {
   "cell_type": "code",
   "execution_count": 7,
   "metadata": {},
   "outputs": [
    {
     "name": "stdout",
     "output_type": "stream",
     "text": [
      "(2268945,)\n",
      "(2268945,)\n"
     ]
    }
   ],
   "source": [
    "print(audio_in_1.shape)\n",
    "print(audio_in_2.shape)"
   ]
  },
  {
   "cell_type": "markdown",
   "metadata": {},
   "source": [
    "### Normalizing sources"
   ]
  },
  {
   "cell_type": "code",
   "execution_count": 8,
   "metadata": {},
   "outputs": [],
   "source": [
    "\n",
    "audio_in_1 = audio_in_1 - np.mean(audio_in_1, axis = 0)\n",
    "audio_in_1 = audio_in_1 / np.std(audio_in_1, axis=0)\n",
    "\n",
    "audio_in_2 = audio_in_2 - np.mean(audio_in_2, axis = 0)\n",
    "audio_in_2 = audio_in_2 / np.std(audio_in_2, axis=0)"
   ]
  },
  {
   "cell_type": "markdown",
   "metadata": {},
   "source": [
    "### Simulation"
   ]
  },
  {
   "cell_type": "code",
   "execution_count": 9,
   "metadata": {},
   "outputs": [],
   "source": [
    "absorption = 1.0\n",
    "room_dim = [5, 4, 3]"
   ]
  },
  {
   "cell_type": "code",
   "execution_count": 10,
   "metadata": {},
   "outputs": [],
   "source": [
    "# Create the shoebox\n",
    "shoebox = pra.ShoeBox(\n",
    "    room_dim,\n",
    "    absorption=absorption,\n",
    "    fs=fs,\n",
    "    max_order=15,\n",
    "    )\n",
    "\n",
    "# source and mic locations\n",
    "shoebox.add_source([2, 1, 1], signal=audio_in_1)\n",
    "shoebox.add_source([3, 1, 1], signal=audio_in_2)\n",
    "\n",
    "\n",
    "# run ism\n",
    "R = np.array([[2, 3], \n",
    "              [2, 2], \n",
    "              [1, 1]])"
   ]
  },
  {
   "cell_type": "code",
   "execution_count": 11,
   "metadata": {},
   "outputs": [],
   "source": [
    "shoebox.add_microphone_array(pra.MicrophoneArray(R, shoebox.fs))\n",
    "shoebox.simulate()"
   ]
  },
  {
   "cell_type": "code",
   "execution_count": 12,
   "metadata": {},
   "outputs": [],
   "source": [
    "audio_reverb = shoebox.mic_array.to_wav('mixed/' \n",
    "                                        + fname_1.split('/')[1] + '_' \n",
    "                                        + fname_2.split('/')[1] + '_absorb='+str(absorption) \n",
    "                                        + '.wav', norm=True, bitdepth=np.int16)"
   ]
  },
  {
   "cell_type": "code",
   "execution_count": null,
   "metadata": {},
   "outputs": [],
   "source": []
  }
 ],
 "metadata": {
  "kernelspec": {
   "display_name": "Python 3",
   "language": "python",
   "name": "python3"
  },
  "language_info": {
   "codemirror_mode": {
    "name": "ipython",
    "version": 3
   },
   "file_extension": ".py",
   "mimetype": "text/x-python",
   "name": "python",
   "nbconvert_exporter": "python",
   "pygments_lexer": "ipython3",
   "version": "3.7.3"
  }
 },
 "nbformat": 4,
 "nbformat_minor": 2
}
